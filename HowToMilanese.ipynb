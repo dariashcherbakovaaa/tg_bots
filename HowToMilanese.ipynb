{
 "cells": [
  {
   "cell_type": "code",
   "execution_count": 1,
   "id": "87a16f73",
   "metadata": {
    "scrolled": true
   },
   "outputs": [
    {
     "name": "stdout",
     "output_type": "stream",
     "text": [
      "Collecting pyTelegramBotAPI\n",
      "  Downloading pyTelegramBotAPI-4.13.0.tar.gz (232 kB)\n",
      "\u001b[2K     \u001b[90m━━━━━━━━━━━━━━━━━━━━━━━━━━━━━━━━━━━━━━━\u001b[0m \u001b[32m232.8/232.8 kB\u001b[0m \u001b[31m1.8 MB/s\u001b[0m eta \u001b[36m0:00:00\u001b[0ma \u001b[36m0:00:01\u001b[0m\n",
      "\u001b[?25h  Preparing metadata (setup.py) ... \u001b[?25ldone\n",
      "\u001b[?25hRequirement already satisfied: requests in /Applications/anaconda3/lib/python3.9/site-packages (from pyTelegramBotAPI) (2.28.1)\n",
      "Requirement already satisfied: urllib3<1.27,>=1.21.1 in /Applications/anaconda3/lib/python3.9/site-packages (from requests->pyTelegramBotAPI) (1.26.11)\n",
      "Requirement already satisfied: certifi>=2017.4.17 in /Applications/anaconda3/lib/python3.9/site-packages (from requests->pyTelegramBotAPI) (2022.9.24)\n",
      "Requirement already satisfied: charset-normalizer<3,>=2 in /Applications/anaconda3/lib/python3.9/site-packages (from requests->pyTelegramBotAPI) (2.0.4)\n",
      "Requirement already satisfied: idna<4,>=2.5 in /Applications/anaconda3/lib/python3.9/site-packages (from requests->pyTelegramBotAPI) (3.3)\n",
      "Building wheels for collected packages: pyTelegramBotAPI\n",
      "  Building wheel for pyTelegramBotAPI (setup.py) ... \u001b[?25ldone\n",
      "\u001b[?25h  Created wheel for pyTelegramBotAPI: filename=pyTelegramBotAPI-4.13.0-py3-none-any.whl size=214533 sha256=f910124c3f8029f0c50ad58d9f81ee6bd3cdd3c756ecf9cd1a9cc28083ce21c7\n",
      "  Stored in directory: /Users/svesh1971/Library/Caches/pip/wheels/6d/05/82/5f51ca10e3939eb47f61064a76b1fb027ff69927a25a3c5190\n",
      "Successfully built pyTelegramBotAPI\n",
      "Installing collected packages: pyTelegramBotAPI\n",
      "Successfully installed pyTelegramBotAPI-4.13.0\n"
     ]
    }
   ],
   "source": [
    "! pip install pyTelegramBotAPI"
   ]
  },
  {
   "cell_type": "code",
   "execution_count": 3,
   "id": "5403e069",
   "metadata": {},
   "outputs": [],
   "source": [
    "import telebot\n",
    "\n",
    "botHowToMilanese = telebot.TeleBot('6621844660:AAHyEjH5Na3PjdgjnxNcOnV-yfaYDX8K3Xg')\n",
    "\n",
    "from telebot import types"
   ]
  },
  {
   "cell_type": "code",
   "execution_count": 6,
   "id": "054d8436",
   "metadata": {},
   "outputs": [],
   "source": [
    "@botHowToMilanese.message_handler(commands=['start'])\n",
    "def startBot(message):\n",
    "  first_mess = f\"<b>{message.from_user.first_name} {message.from_user.last_name}</b>, Here you will find several questions on your preferencies, desires and plans for Milan. Are you ready to answer these questions to recieve personalised guide for Milan?\"\n",
    "  markup = types.InlineKeyboardMarkup()\n",
    "  button_yes = types.InlineKeyboardButton(text = 'Yes', callback_data='yes')\n",
    "  markup.add(button_yes)\n",
    "  button_no = types.InlineKeyboardButton(text = 'No', callback_data='no')\n",
    "  botTimeWeb.send_message(message.chat.id, first_mess, parse_mode='html', reply_markup=markup)"
   ]
  },
  {
   "cell_type": "code",
   "execution_count": 13,
   "id": "5e820201",
   "metadata": {},
   "outputs": [],
   "source": [
    "@botTimeWeb.callback_query_handler(func=lambda call: True)\n",
    "def response(function_call):\n",
    "    if function_call.message:\n",
    "        if function_call.data == \"yes\":\n",
    "            second_mess = \"Okey let's start!\"\n",
    "            markup = types.InlineKeyboardMarkup()\n",
    "            markup.add(types.InlineKeyboardButton(\"Question 1\", url=\"https://www.instagram.com/kisss_my_asssss\"))\n",
    "            botTimeWeb.send_message(function_call.message.chat.id, second_mess, reply_markup=markup)\n",
    "            botTimeWeb.answer_callback_query(function_call.id)\n",
    "        else:\n",
    "            second_mess = \"No problem. Let me know when you need me\"\n",
    "            markup = types.InlineKeyboardMarkup()\n",
    "            markup.add(types.InlineKeyboardButton(\"Ciao!\", url=\"https://www.instagram.com/kisss_my_asssss\"))\n",
    "            botTimeWeb.send_message(function_call.message.chat.id, second_mess, reply_markup=markup)\n",
    "            botTimeWeb.answer_callback_query(function_call.id)"
   ]
  },
  {
   "cell_type": "code",
   "execution_count": null,
   "id": "e3f9c258",
   "metadata": {},
   "outputs": [],
   "source": []
  }
 ],
 "metadata": {
  "kernelspec": {
   "display_name": "Python 3 (ipykernel)",
   "language": "python",
   "name": "python3"
  },
  "language_info": {
   "codemirror_mode": {
    "name": "ipython",
    "version": 3
   },
   "file_extension": ".py",
   "mimetype": "text/x-python",
   "name": "python",
   "nbconvert_exporter": "python",
   "pygments_lexer": "ipython3",
   "version": "3.9.13"
  }
 },
 "nbformat": 4,
 "nbformat_minor": 5
}
